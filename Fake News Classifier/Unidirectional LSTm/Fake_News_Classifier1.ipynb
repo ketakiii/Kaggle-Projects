{
  "nbformat": 4,
  "nbformat_minor": 0,
  "metadata": {
    "colab": {
      "name": "Fake News Classifier1.ipynb",
      "provenance": []
    },
    "kernelspec": {
      "name": "python3",
      "display_name": "Python 3"
    },
    "language_info": {
      "name": "python"
    }
  },
  "cells": [
    {
      "cell_type": "markdown",
      "source": [
        "Importing the dataset"
      ],
      "metadata": {
        "id": "Xii1hAkeMjV6"
      }
    },
    {
      "cell_type": "code",
      "execution_count": 27,
      "metadata": {
        "id": "qSYgmm0nAx4-",
        "colab": {
          "base_uri": "https://localhost:8080/",
          "height": 206
        },
        "outputId": "b370b68b-1532-4d72-8d24-774d90a85403"
      },
      "outputs": [
        {
          "output_type": "execute_result",
          "data": {
            "text/plain": [
              "   id                                              title              author  \\\n",
              "0   0  House Dem Aide: We Didn’t Even See Comey’s Let...       Darrell Lucus   \n",
              "1   1  FLYNN: Hillary Clinton, Big Woman on Campus - ...     Daniel J. Flynn   \n",
              "2   2                  Why the Truth Might Get You Fired  Consortiumnews.com   \n",
              "3   3  15 Civilians Killed In Single US Airstrike Hav...     Jessica Purkiss   \n",
              "4   4  Iranian woman jailed for fictional unpublished...      Howard Portnoy   \n",
              "\n",
              "                                                text  label  \n",
              "0  House Dem Aide: We Didn’t Even See Comey’s Let...      1  \n",
              "1  Ever get the feeling your life circles the rou...      0  \n",
              "2  Why the Truth Might Get You Fired October 29, ...      1  \n",
              "3  Videos 15 Civilians Killed In Single US Airstr...      1  \n",
              "4  Print \\nAn Iranian woman has been sentenced to...      1  "
            ],
            "text/html": [
              "\n",
              "  <div id=\"df-23c1f2e4-3a66-4956-8f5c-f104ed370a31\">\n",
              "    <div class=\"colab-df-container\">\n",
              "      <div>\n",
              "<style scoped>\n",
              "    .dataframe tbody tr th:only-of-type {\n",
              "        vertical-align: middle;\n",
              "    }\n",
              "\n",
              "    .dataframe tbody tr th {\n",
              "        vertical-align: top;\n",
              "    }\n",
              "\n",
              "    .dataframe thead th {\n",
              "        text-align: right;\n",
              "    }\n",
              "</style>\n",
              "<table border=\"1\" class=\"dataframe\">\n",
              "  <thead>\n",
              "    <tr style=\"text-align: right;\">\n",
              "      <th></th>\n",
              "      <th>id</th>\n",
              "      <th>title</th>\n",
              "      <th>author</th>\n",
              "      <th>text</th>\n",
              "      <th>label</th>\n",
              "    </tr>\n",
              "  </thead>\n",
              "  <tbody>\n",
              "    <tr>\n",
              "      <th>0</th>\n",
              "      <td>0</td>\n",
              "      <td>House Dem Aide: We Didn’t Even See Comey’s Let...</td>\n",
              "      <td>Darrell Lucus</td>\n",
              "      <td>House Dem Aide: We Didn’t Even See Comey’s Let...</td>\n",
              "      <td>1</td>\n",
              "    </tr>\n",
              "    <tr>\n",
              "      <th>1</th>\n",
              "      <td>1</td>\n",
              "      <td>FLYNN: Hillary Clinton, Big Woman on Campus - ...</td>\n",
              "      <td>Daniel J. Flynn</td>\n",
              "      <td>Ever get the feeling your life circles the rou...</td>\n",
              "      <td>0</td>\n",
              "    </tr>\n",
              "    <tr>\n",
              "      <th>2</th>\n",
              "      <td>2</td>\n",
              "      <td>Why the Truth Might Get You Fired</td>\n",
              "      <td>Consortiumnews.com</td>\n",
              "      <td>Why the Truth Might Get You Fired October 29, ...</td>\n",
              "      <td>1</td>\n",
              "    </tr>\n",
              "    <tr>\n",
              "      <th>3</th>\n",
              "      <td>3</td>\n",
              "      <td>15 Civilians Killed In Single US Airstrike Hav...</td>\n",
              "      <td>Jessica Purkiss</td>\n",
              "      <td>Videos 15 Civilians Killed In Single US Airstr...</td>\n",
              "      <td>1</td>\n",
              "    </tr>\n",
              "    <tr>\n",
              "      <th>4</th>\n",
              "      <td>4</td>\n",
              "      <td>Iranian woman jailed for fictional unpublished...</td>\n",
              "      <td>Howard Portnoy</td>\n",
              "      <td>Print \\nAn Iranian woman has been sentenced to...</td>\n",
              "      <td>1</td>\n",
              "    </tr>\n",
              "  </tbody>\n",
              "</table>\n",
              "</div>\n",
              "      <button class=\"colab-df-convert\" onclick=\"convertToInteractive('df-23c1f2e4-3a66-4956-8f5c-f104ed370a31')\"\n",
              "              title=\"Convert this dataframe to an interactive table.\"\n",
              "              style=\"display:none;\">\n",
              "        \n",
              "  <svg xmlns=\"http://www.w3.org/2000/svg\" height=\"24px\"viewBox=\"0 0 24 24\"\n",
              "       width=\"24px\">\n",
              "    <path d=\"M0 0h24v24H0V0z\" fill=\"none\"/>\n",
              "    <path d=\"M18.56 5.44l.94 2.06.94-2.06 2.06-.94-2.06-.94-.94-2.06-.94 2.06-2.06.94zm-11 1L8.5 8.5l.94-2.06 2.06-.94-2.06-.94L8.5 2.5l-.94 2.06-2.06.94zm10 10l.94 2.06.94-2.06 2.06-.94-2.06-.94-.94-2.06-.94 2.06-2.06.94z\"/><path d=\"M17.41 7.96l-1.37-1.37c-.4-.4-.92-.59-1.43-.59-.52 0-1.04.2-1.43.59L10.3 9.45l-7.72 7.72c-.78.78-.78 2.05 0 2.83L4 21.41c.39.39.9.59 1.41.59.51 0 1.02-.2 1.41-.59l7.78-7.78 2.81-2.81c.8-.78.8-2.07 0-2.86zM5.41 20L4 18.59l7.72-7.72 1.47 1.35L5.41 20z\"/>\n",
              "  </svg>\n",
              "      </button>\n",
              "      \n",
              "  <style>\n",
              "    .colab-df-container {\n",
              "      display:flex;\n",
              "      flex-wrap:wrap;\n",
              "      gap: 12px;\n",
              "    }\n",
              "\n",
              "    .colab-df-convert {\n",
              "      background-color: #E8F0FE;\n",
              "      border: none;\n",
              "      border-radius: 50%;\n",
              "      cursor: pointer;\n",
              "      display: none;\n",
              "      fill: #1967D2;\n",
              "      height: 32px;\n",
              "      padding: 0 0 0 0;\n",
              "      width: 32px;\n",
              "    }\n",
              "\n",
              "    .colab-df-convert:hover {\n",
              "      background-color: #E2EBFA;\n",
              "      box-shadow: 0px 1px 2px rgba(60, 64, 67, 0.3), 0px 1px 3px 1px rgba(60, 64, 67, 0.15);\n",
              "      fill: #174EA6;\n",
              "    }\n",
              "\n",
              "    [theme=dark] .colab-df-convert {\n",
              "      background-color: #3B4455;\n",
              "      fill: #D2E3FC;\n",
              "    }\n",
              "\n",
              "    [theme=dark] .colab-df-convert:hover {\n",
              "      background-color: #434B5C;\n",
              "      box-shadow: 0px 1px 3px 1px rgba(0, 0, 0, 0.15);\n",
              "      filter: drop-shadow(0px 1px 2px rgba(0, 0, 0, 0.3));\n",
              "      fill: #FFFFFF;\n",
              "    }\n",
              "  </style>\n",
              "\n",
              "      <script>\n",
              "        const buttonEl =\n",
              "          document.querySelector('#df-23c1f2e4-3a66-4956-8f5c-f104ed370a31 button.colab-df-convert');\n",
              "        buttonEl.style.display =\n",
              "          google.colab.kernel.accessAllowed ? 'block' : 'none';\n",
              "\n",
              "        async function convertToInteractive(key) {\n",
              "          const element = document.querySelector('#df-23c1f2e4-3a66-4956-8f5c-f104ed370a31');\n",
              "          const dataTable =\n",
              "            await google.colab.kernel.invokeFunction('convertToInteractive',\n",
              "                                                     [key], {});\n",
              "          if (!dataTable) return;\n",
              "\n",
              "          const docLinkHtml = 'Like what you see? Visit the ' +\n",
              "            '<a target=\"_blank\" href=https://colab.research.google.com/notebooks/data_table.ipynb>data table notebook</a>'\n",
              "            + ' to learn more about interactive tables.';\n",
              "          element.innerHTML = '';\n",
              "          dataTable['output_type'] = 'display_data';\n",
              "          await google.colab.output.renderOutput(dataTable, element);\n",
              "          const docLink = document.createElement('div');\n",
              "          docLink.innerHTML = docLinkHtml;\n",
              "          element.appendChild(docLink);\n",
              "        }\n",
              "      </script>\n",
              "    </div>\n",
              "  </div>\n",
              "  "
            ]
          },
          "metadata": {},
          "execution_count": 27
        }
      ],
      "source": [
        "import pandas as pd\n",
        "data = pd.read_csv('/content/drive/MyDrive/Deep Learning/train.csv.zip')\n",
        "data.head()"
      ]
    },
    {
      "cell_type": "markdown",
      "source": [
        "Dropping the Nan values"
      ],
      "metadata": {
        "id": "Z5pdcc1INEtj"
      }
    },
    {
      "cell_type": "code",
      "source": [
        "data = data.dropna()"
      ],
      "metadata": {
        "id": "MRCoUOjHNH8V"
      },
      "execution_count": 28,
      "outputs": []
    },
    {
      "cell_type": "markdown",
      "source": [
        "Defining the dependent and independent variables"
      ],
      "metadata": {
        "id": "3T2wO8d3NSQx"
      }
    },
    {
      "cell_type": "code",
      "source": [
        "X = data.drop('label', axis=1)\n",
        "y = data['label']"
      ],
      "metadata": {
        "id": "rebcSR74NID4"
      },
      "execution_count": 29,
      "outputs": []
    },
    {
      "cell_type": "markdown",
      "source": [
        "Checking the shape of X, y"
      ],
      "metadata": {
        "id": "JaoXSC3RNeJ-"
      }
    },
    {
      "cell_type": "code",
      "source": [
        "print(X.shape)\n",
        "print(y.shape)"
      ],
      "metadata": {
        "colab": {
          "base_uri": "https://localhost:8080/"
        },
        "id": "gJkNQDp_Nhjb",
        "outputId": "25423c1a-fdce-447f-c5c5-12d2d25f4454"
      },
      "execution_count": 30,
      "outputs": [
        {
          "output_type": "stream",
          "name": "stdout",
          "text": [
            "(18285, 4)\n",
            "(18285,)\n"
          ]
        }
      ]
    },
    {
      "cell_type": "markdown",
      "source": [
        "Importing the tensorflow libraries"
      ],
      "metadata": {
        "id": "h1-H12YNNqJH"
      }
    },
    {
      "cell_type": "code",
      "source": [
        "import tensorflow as tf\n",
        "print(tf.__version__)"
      ],
      "metadata": {
        "colab": {
          "base_uri": "https://localhost:8080/"
        },
        "id": "ecDTZPWuNmyU",
        "outputId": "49536eff-9f80-45be-c006-5896a09d570e"
      },
      "execution_count": 31,
      "outputs": [
        {
          "output_type": "stream",
          "name": "stdout",
          "text": [
            "2.8.2\n"
          ]
        }
      ]
    },
    {
      "cell_type": "markdown",
      "source": [
        "Importing the tensorflow libraries"
      ],
      "metadata": {
        "id": "mAo0Q4GcN0fo"
      }
    },
    {
      "cell_type": "code",
      "source": [
        "from tensorflow.keras.layers import Embedding\n",
        "from tensorflow.keras.preprocessing.sequence import pad_sequences\n",
        "from tensorflow.keras.models import Sequential\n",
        "from tensorflow.keras.preprocessing.text import one_hot\n",
        "from tensorflow.keras.layers import LSTM \n",
        "from tensorflow.keras.layers import Dense"
      ],
      "metadata": {
        "id": "_nGK2AozN203"
      },
      "execution_count": 32,
      "outputs": []
    },
    {
      "cell_type": "markdown",
      "source": [
        "Defining the vocabulary size"
      ],
      "metadata": {
        "id": "AwoNaY8JOebh"
      }
    },
    {
      "cell_type": "code",
      "source": [
        "vocabsize = 5000"
      ],
      "metadata": {
        "id": "4IX1sy1AOkVG"
      },
      "execution_count": 33,
      "outputs": []
    },
    {
      "cell_type": "markdown",
      "source": [
        "One Hot Representation"
      ],
      "metadata": {
        "id": "9DBJ3nv7OiGY"
      }
    },
    {
      "cell_type": "code",
      "source": [
        "messages = X.copy()"
      ],
      "metadata": {
        "id": "Ycw_JdJzOxex"
      },
      "execution_count": 34,
      "outputs": []
    },
    {
      "cell_type": "code",
      "source": [
        "messages['title'][1]"
      ],
      "metadata": {
        "colab": {
          "base_uri": "https://localhost:8080/",
          "height": 35
        },
        "id": "APzuysCHO2kz",
        "outputId": "42d3903b-7b6e-4951-f294-ce9816636201"
      },
      "execution_count": 35,
      "outputs": [
        {
          "output_type": "execute_result",
          "data": {
            "text/plain": [
              "'FLYNN: Hillary Clinton, Big Woman on Campus - Breitbart'"
            ],
            "application/vnd.google.colaboratory.intrinsic+json": {
              "type": "string"
            }
          },
          "metadata": {},
          "execution_count": 35
        }
      ]
    },
    {
      "cell_type": "markdown",
      "source": [
        "Resetting the indexes"
      ],
      "metadata": {
        "id": "Lj6TtSA3O6us"
      }
    },
    {
      "cell_type": "code",
      "source": [
        "messages.reset_index(inplace=True)"
      ],
      "metadata": {
        "id": "EKp26Ec_O48X"
      },
      "execution_count": 36,
      "outputs": []
    },
    {
      "cell_type": "markdown",
      "source": [
        "Import nltk libraries"
      ],
      "metadata": {
        "id": "zdMdAzIJPEA_"
      }
    },
    {
      "cell_type": "code",
      "source": [
        "import nltk \n",
        "import re\n",
        "from nltk.corpus import stopwords"
      ],
      "metadata": {
        "id": "Nm3EaWcaPF0V"
      },
      "execution_count": 37,
      "outputs": []
    },
    {
      "cell_type": "code",
      "source": [
        "nltk.download('stopwords')"
      ],
      "metadata": {
        "colab": {
          "base_uri": "https://localhost:8080/"
        },
        "id": "9zZOdS6GPQqX",
        "outputId": "3ae525bf-f149-4c78-eb5b-4f9a77162c8b"
      },
      "execution_count": 38,
      "outputs": [
        {
          "output_type": "stream",
          "name": "stdout",
          "text": [
            "[nltk_data] Downloading package stopwords to /root/nltk_data...\n",
            "[nltk_data]   Package stopwords is already up-to-date!\n"
          ]
        },
        {
          "output_type": "execute_result",
          "data": {
            "text/plain": [
              "True"
            ]
          },
          "metadata": {},
          "execution_count": 38
        }
      ]
    },
    {
      "cell_type": "markdown",
      "source": [
        "Data Preprocessing"
      ],
      "metadata": {
        "id": "CTQ8d2n-PWFu"
      }
    },
    {
      "cell_type": "code",
      "source": [
        "from nltk.stem.porter import PorterStemmer\n",
        "ps = PorterStemmer()\n",
        "corpus = []\n",
        "for i in range(0, len(messages)):\n",
        "  review = re.sub('[^a-zA-Z]', ' ', messages['title'][i])\n",
        "  review = review.lower()\n",
        "  review = review.split()\n",
        "\n",
        "  review = [ps.stem(word) for word in review if not word in stopwords.words('english')]\n",
        "  review = ' '.join(review)\n",
        "  corpus.append(review)"
      ],
      "metadata": {
        "id": "ZNk_ALsUPUch"
      },
      "execution_count": 39,
      "outputs": []
    },
    {
      "cell_type": "markdown",
      "source": [
        "Checking the corpus"
      ],
      "metadata": {
        "id": "wd7mpu0mQx6i"
      }
    },
    {
      "cell_type": "code",
      "source": [
        "corpus[:20]"
      ],
      "metadata": {
        "colab": {
          "base_uri": "https://localhost:8080/"
        },
        "id": "lrag0eeaQqki",
        "outputId": "145d50a2-a89e-4294-9ec6-22383e099faf"
      },
      "execution_count": 40,
      "outputs": [
        {
          "output_type": "execute_result",
          "data": {
            "text/plain": [
              "['hous dem aid even see comey letter jason chaffetz tweet',\n",
              " 'flynn hillari clinton big woman campu breitbart',\n",
              " 'truth might get fire',\n",
              " 'civilian kill singl us airstrik identifi',\n",
              " 'iranian woman jail fiction unpublish stori woman stone death adulteri',\n",
              " 'jacki mason hollywood would love trump bomb north korea lack tran bathroom exclus video breitbart',\n",
              " 'beno hamon win french socialist parti presidenti nomin new york time',\n",
              " 'back channel plan ukrain russia courtesi trump associ new york time',\n",
              " 'obama organ action partner soro link indivis disrupt trump agenda',\n",
              " 'bbc comedi sketch real housew isi caus outrag',\n",
              " 'russian research discov secret nazi militari base treasur hunter arctic photo',\n",
              " 'us offici see link trump russia',\n",
              " 'ye paid govern troll social media blog forum websit',\n",
              " 'major leagu soccer argentin find home success new york time',\n",
              " 'well fargo chief abruptli step new york time',\n",
              " 'anonym donor pay million releas everyon arrest dakota access pipelin',\n",
              " 'fbi close hillari',\n",
              " 'chuck todd buzzfe donald trump polit favor breitbart',\n",
              " 'monica lewinski clinton sex scandal set american crime stori',\n",
              " 'rob reiner trump mental unstabl breitbart']"
            ]
          },
          "metadata": {},
          "execution_count": 40
        }
      ]
    },
    {
      "cell_type": "markdown",
      "source": [
        "One Hot Representation"
      ],
      "metadata": {
        "id": "L7FhY-txQ3Qe"
      }
    },
    {
      "cell_type": "code",
      "source": [
        "onehotrep = [one_hot(words, vocabsize) for words in corpus]\n",
        "onehotrep[:5]"
      ],
      "metadata": {
        "colab": {
          "base_uri": "https://localhost:8080/"
        },
        "id": "52Z9YiwOQxR9",
        "outputId": "0358d9ac-db83-4399-ff7a-b66dffd266c3"
      },
      "execution_count": 41,
      "outputs": [
        {
          "output_type": "execute_result",
          "data": {
            "text/plain": [
              "[[774, 4007, 255, 1656, 45, 4711, 4081, 1723, 939, 4229],\n",
              " [1385, 3055, 4312, 888, 4843, 594, 3874],\n",
              " [823, 2957, 1076, 4847],\n",
              " [2254, 1933, 1153, 3175, 1021, 2348],\n",
              " [553, 4843, 869, 3437, 283, 2266, 4843, 4599, 1614, 224]]"
            ]
          },
          "metadata": {},
          "execution_count": 41
        }
      ]
    },
    {
      "cell_type": "markdown",
      "source": [
        "Embedding Representation"
      ],
      "metadata": {
        "id": "K0Ld5zskRJB-"
      }
    },
    {
      "cell_type": "code",
      "source": [
        "sentencelength = 20\n",
        "embeddeddocs = pad_sequences(onehotrep, padding='pre', maxlen=sentencelength)\n",
        "print(embeddeddocs)"
      ],
      "metadata": {
        "colab": {
          "base_uri": "https://localhost:8080/"
        },
        "id": "aE6kolvkRFiU",
        "outputId": "4c33634a-8040-4961-dba7-96eb28a59b63"
      },
      "execution_count": 42,
      "outputs": [
        {
          "output_type": "stream",
          "name": "stdout",
          "text": [
            "[[   0    0    0 ... 1723  939 4229]\n",
            " [   0    0    0 ... 4843  594 3874]\n",
            " [   0    0    0 ... 2957 1076 4847]\n",
            " ...\n",
            " [   0    0    0 ... 1080 4236 1177]\n",
            " [   0    0    0 ... 2504 3791 4241]\n",
            " [   0    0    0 ...  298 4700  435]]\n"
          ]
        }
      ]
    },
    {
      "cell_type": "code",
      "source": [
        "embeddeddocs[0]"
      ],
      "metadata": {
        "colab": {
          "base_uri": "https://localhost:8080/"
        },
        "id": "nkxLXUfPRbqa",
        "outputId": "4fc498ad-a18f-42da-d88c-f48a0d202a5a"
      },
      "execution_count": 43,
      "outputs": [
        {
          "output_type": "execute_result",
          "data": {
            "text/plain": [
              "array([   0,    0,    0,    0,    0,    0,    0,    0,    0,    0,  774,\n",
              "       4007,  255, 1656,   45, 4711, 4081, 1723,  939, 4229], dtype=int32)"
            ]
          },
          "metadata": {},
          "execution_count": 43
        }
      ]
    },
    {
      "cell_type": "markdown",
      "source": [
        "Creating models"
      ],
      "metadata": {
        "id": "4CQ8g4wtRY_n"
      }
    },
    {
      "cell_type": "code",
      "source": [
        "embedding_vector_features = 40\n",
        "model = Sequential()\n",
        "model.add(Embedding(vocabsize, embedding_vector_features, input_length=sentencelength))\n",
        "model.add(LSTM(100))\n",
        "model.add(Dense(1, activation='sigmoid'))\n",
        "model.compile(loss='binary_crossentropy', optimizer='adam', metrics=['accuracy'])\n",
        "print(model.summary())"
      ],
      "metadata": {
        "colab": {
          "base_uri": "https://localhost:8080/"
        },
        "id": "NYJrc25IRd6L",
        "outputId": "8b97eafd-9f7c-4f01-bbc4-a868a0e547e6"
      },
      "execution_count": 44,
      "outputs": [
        {
          "output_type": "stream",
          "name": "stdout",
          "text": [
            "Model: \"sequential_2\"\n",
            "_________________________________________________________________\n",
            " Layer (type)                Output Shape              Param #   \n",
            "=================================================================\n",
            " embedding_2 (Embedding)     (None, 20, 40)            200000    \n",
            "                                                                 \n",
            " lstm_2 (LSTM)               (None, 100)               56400     \n",
            "                                                                 \n",
            " dense_2 (Dense)             (None, 1)                 101       \n",
            "                                                                 \n",
            "=================================================================\n",
            "Total params: 256,501\n",
            "Trainable params: 256,501\n",
            "Non-trainable params: 0\n",
            "_________________________________________________________________\n",
            "None\n"
          ]
        }
      ]
    },
    {
      "cell_type": "code",
      "source": [
        "len(embeddeddocs), y.shape"
      ],
      "metadata": {
        "colab": {
          "base_uri": "https://localhost:8080/"
        },
        "id": "t7aYF47JSKeQ",
        "outputId": "53c2c595-ad81-4414-887d-f2e5c0141385"
      },
      "execution_count": 45,
      "outputs": [
        {
          "output_type": "execute_result",
          "data": {
            "text/plain": [
              "(18285, (18285,))"
            ]
          },
          "metadata": {},
          "execution_count": 45
        }
      ]
    },
    {
      "cell_type": "markdown",
      "source": [
        "Importing libraries"
      ],
      "metadata": {
        "id": "fmjJtQy7SNn0"
      }
    },
    {
      "cell_type": "code",
      "source": [
        "import numpy as np\n",
        "Xfinal = np.array(embeddeddocs)\n",
        "yfinal = np.array(y)"
      ],
      "metadata": {
        "id": "4cAZEp2-SPx1"
      },
      "execution_count": 46,
      "outputs": []
    },
    {
      "cell_type": "markdown",
      "source": [
        "Train test split"
      ],
      "metadata": {
        "id": "iLjLn2SBSZWG"
      }
    },
    {
      "cell_type": "code",
      "source": [
        "from sklearn.model_selection import train_test_split\n",
        "X_train, X_test, y_train, y_test = train_test_split(Xfinal, yfinal, test_size=0.33, random_state=42)"
      ],
      "metadata": {
        "id": "x9co-cqmSaoX"
      },
      "execution_count": 47,
      "outputs": []
    },
    {
      "cell_type": "markdown",
      "source": [
        "Training the model"
      ],
      "metadata": {
        "id": "WlJO8nn0Sp6g"
      }
    },
    {
      "cell_type": "code",
      "source": [
        "model.fit(X_train, y_train, validation_data=(X_test, y_test), epochs=10, batch_size=64)"
      ],
      "metadata": {
        "colab": {
          "base_uri": "https://localhost:8080/"
        },
        "id": "_KAMLIpNSo-G",
        "outputId": "d0039a46-39c4-4f14-93c5-207a84ad0139"
      },
      "execution_count": 48,
      "outputs": [
        {
          "output_type": "stream",
          "name": "stdout",
          "text": [
            "Epoch 1/10\n",
            "192/192 [==============================] - 10s 35ms/step - loss: 0.3380 - accuracy: 0.8353 - val_loss: 0.2006 - val_accuracy: 0.9148\n",
            "Epoch 2/10\n",
            "192/192 [==============================] - 6s 31ms/step - loss: 0.1443 - accuracy: 0.9424 - val_loss: 0.1980 - val_accuracy: 0.9195\n",
            "Epoch 3/10\n",
            "192/192 [==============================] - 6s 33ms/step - loss: 0.1014 - accuracy: 0.9623 - val_loss: 0.2577 - val_accuracy: 0.9170\n",
            "Epoch 4/10\n",
            "192/192 [==============================] - 6s 32ms/step - loss: 0.0716 - accuracy: 0.9736 - val_loss: 0.2807 - val_accuracy: 0.9122\n",
            "Epoch 5/10\n",
            "192/192 [==============================] - 6s 31ms/step - loss: 0.0479 - accuracy: 0.9825 - val_loss: 0.3312 - val_accuracy: 0.9140\n",
            "Epoch 6/10\n",
            "192/192 [==============================] - 6s 32ms/step - loss: 0.0316 - accuracy: 0.9899 - val_loss: 0.4082 - val_accuracy: 0.9175\n",
            "Epoch 7/10\n",
            "192/192 [==============================] - 6s 32ms/step - loss: 0.0171 - accuracy: 0.9946 - val_loss: 0.4537 - val_accuracy: 0.9143\n",
            "Epoch 8/10\n",
            "192/192 [==============================] - 7s 36ms/step - loss: 0.0092 - accuracy: 0.9976 - val_loss: 0.4320 - val_accuracy: 0.9127\n",
            "Epoch 9/10\n",
            "192/192 [==============================] - 9s 45ms/step - loss: 0.0045 - accuracy: 0.9989 - val_loss: 0.5988 - val_accuracy: 0.9155\n",
            "Epoch 10/10\n",
            "192/192 [==============================] - 7s 35ms/step - loss: 0.0054 - accuracy: 0.9986 - val_loss: 0.5013 - val_accuracy: 0.9114\n"
          ]
        },
        {
          "output_type": "execute_result",
          "data": {
            "text/plain": [
              "<keras.callbacks.History at 0x7f5c6c84da10>"
            ]
          },
          "metadata": {},
          "execution_count": 48
        }
      ]
    },
    {
      "cell_type": "markdown",
      "source": [
        "Adding Dropout"
      ],
      "metadata": {
        "id": "e56HoV6ZS8Yy"
      }
    },
    {
      "cell_type": "code",
      "source": [
        "# from tensorflow.keras.layers import Dropout\n",
        "\n",
        "# embedding_vector_features=40\n",
        "# model = Sequential()\n",
        "# model.add(Embedding(vocabsize, embedding_vector_features, input_length=sentencelength))\n",
        "# model.add(Dropout(0.3))\n",
        "# model.add(LSTM(100))\n",
        "# model.add(Dropout(0.3))\n",
        "# model.add(Dense(1, activation='sigmoid'))\n",
        "model.compile(loss='binary_crossentropy', optimizer='adam', metrics=['accuarcy'])"
      ],
      "metadata": {
        "id": "cBr8Rb8BS9wz"
      },
      "execution_count": 49,
      "outputs": []
    },
    {
      "cell_type": "markdown",
      "source": [
        "Performance metrics and Accuracy"
      ],
      "metadata": {
        "id": "c4004bNBTyf4"
      }
    },
    {
      "cell_type": "code",
      "source": [
        "y_pred = (model.predict(X_test) > 0.5).astype(\"int32\")"
      ],
      "metadata": {
        "id": "0CO0jbQuT1Wr"
      },
      "execution_count": 50,
      "outputs": []
    },
    {
      "cell_type": "markdown",
      "source": [
        "Confusion Matrix"
      ],
      "metadata": {
        "id": "YhKsSC0LT-TE"
      }
    },
    {
      "cell_type": "code",
      "source": [
        "from sklearn.metrics import confusion_matrix\n",
        "confusion_matrix(y_test, y_pred)"
      ],
      "metadata": {
        "colab": {
          "base_uri": "https://localhost:8080/"
        },
        "id": "oq3astM_T_zK",
        "outputId": "8610dd0e-ef86-4a6e-fe1b-8270391b765b"
      },
      "execution_count": 51,
      "outputs": [
        {
          "output_type": "execute_result",
          "data": {
            "text/plain": [
              "array([[3137,  282],\n",
              "       [ 253, 2363]])"
            ]
          },
          "metadata": {},
          "execution_count": 51
        }
      ]
    },
    {
      "cell_type": "markdown",
      "source": [
        "Accuracy Score"
      ],
      "metadata": {
        "id": "vnhlMDU8UILo"
      }
    },
    {
      "cell_type": "code",
      "source": [
        "from sklearn.metrics import accuracy_score\n",
        "accuracy_score(y_test, y_pred)"
      ],
      "metadata": {
        "colab": {
          "base_uri": "https://localhost:8080/"
        },
        "id": "vIGWwDLYUJZe",
        "outputId": "ed90962d-c7ad-453a-b672-d2b45cd425cc"
      },
      "execution_count": 52,
      "outputs": [
        {
          "output_type": "execute_result",
          "data": {
            "text/plain": [
              "0.9113504556752279"
            ]
          },
          "metadata": {},
          "execution_count": 52
        }
      ]
    }
  ]
}