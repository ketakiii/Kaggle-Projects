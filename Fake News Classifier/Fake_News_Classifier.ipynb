{
  "nbformat": 4,
  "nbformat_minor": 0,
  "metadata": {
    "colab": {
      "name": "Fake News Classifier.ipynb",
      "provenance": []
    },
    "kernelspec": {
      "name": "python3",
      "display_name": "Python 3"
    },
    "language_info": {
      "name": "python"
    }
  },
  "cells": [
    {
      "cell_type": "markdown",
      "source": [
        "Importing the libraries "
      ],
      "metadata": {
        "id": "-Uwcq9fHvckS"
      }
    },
    {
      "cell_type": "code",
      "source": [
        "import pandas as pd \n",
        "import numpy as np \n",
        "import matplotlib.pyplot as plt "
      ],
      "metadata": {
        "id": "PR9R4pmZvXFz"
      },
      "execution_count": 1,
      "outputs": []
    },
    {
      "cell_type": "markdown",
      "source": [
        "Importing the dataset"
      ],
      "metadata": {
        "id": "J96qBMkKvkQe"
      }
    },
    {
      "cell_type": "markdown",
      "source": [
        "Unzipping the data first "
      ],
      "metadata": {
        "id": "SwMkTdc3wFGO"
      }
    },
    {
      "cell_type": "code",
      "source": [
        "!unzip '/content/drive/MyDrive/Deep Learning/train.csv.zip'"
      ],
      "metadata": {
        "colab": {
          "base_uri": "https://localhost:8080/"
        },
        "id": "sp7HWqT6wETL",
        "outputId": "f82d0433-45fa-4145-87a4-44bbb70315c5"
      },
      "execution_count": 2,
      "outputs": [
        {
          "output_type": "stream",
          "name": "stdout",
          "text": [
            "Archive:  /content/drive/MyDrive/Deep Learning/train.csv.zip\n",
            "  inflating: train.csv               \n"
          ]
        }
      ]
    },
    {
      "cell_type": "code",
      "source": [
        "data = pd.read_csv('/content/train.csv')"
      ],
      "metadata": {
        "id": "GGHyEkF6vXIo"
      },
      "execution_count": 3,
      "outputs": []
    },
    {
      "cell_type": "code",
      "source": [
        "data.head()"
      ],
      "metadata": {
        "colab": {
          "base_uri": "https://localhost:8080/",
          "height": 206
        },
        "id": "n5jWkY-7vyfq",
        "outputId": "46db6958-9489-4fc9-f9a1-5a56765ece9a"
      },
      "execution_count": 4,
      "outputs": [
        {
          "output_type": "execute_result",
          "data": {
            "text/plain": [
              "   id                                              title              author  \\\n",
              "0   0  House Dem Aide: We Didn’t Even See Comey’s Let...       Darrell Lucus   \n",
              "1   1  FLYNN: Hillary Clinton, Big Woman on Campus - ...     Daniel J. Flynn   \n",
              "2   2                  Why the Truth Might Get You Fired  Consortiumnews.com   \n",
              "3   3  15 Civilians Killed In Single US Airstrike Hav...     Jessica Purkiss   \n",
              "4   4  Iranian woman jailed for fictional unpublished...      Howard Portnoy   \n",
              "\n",
              "                                                text  label  \n",
              "0  House Dem Aide: We Didn’t Even See Comey’s Let...      1  \n",
              "1  Ever get the feeling your life circles the rou...      0  \n",
              "2  Why the Truth Might Get You Fired October 29, ...      1  \n",
              "3  Videos 15 Civilians Killed In Single US Airstr...      1  \n",
              "4  Print \\nAn Iranian woman has been sentenced to...      1  "
            ],
            "text/html": [
              "\n",
              "  <div id=\"df-693b8a33-9ddf-4846-921b-6999d0ea08dd\">\n",
              "    <div class=\"colab-df-container\">\n",
              "      <div>\n",
              "<style scoped>\n",
              "    .dataframe tbody tr th:only-of-type {\n",
              "        vertical-align: middle;\n",
              "    }\n",
              "\n",
              "    .dataframe tbody tr th {\n",
              "        vertical-align: top;\n",
              "    }\n",
              "\n",
              "    .dataframe thead th {\n",
              "        text-align: right;\n",
              "    }\n",
              "</style>\n",
              "<table border=\"1\" class=\"dataframe\">\n",
              "  <thead>\n",
              "    <tr style=\"text-align: right;\">\n",
              "      <th></th>\n",
              "      <th>id</th>\n",
              "      <th>title</th>\n",
              "      <th>author</th>\n",
              "      <th>text</th>\n",
              "      <th>label</th>\n",
              "    </tr>\n",
              "  </thead>\n",
              "  <tbody>\n",
              "    <tr>\n",
              "      <th>0</th>\n",
              "      <td>0</td>\n",
              "      <td>House Dem Aide: We Didn’t Even See Comey’s Let...</td>\n",
              "      <td>Darrell Lucus</td>\n",
              "      <td>House Dem Aide: We Didn’t Even See Comey’s Let...</td>\n",
              "      <td>1</td>\n",
              "    </tr>\n",
              "    <tr>\n",
              "      <th>1</th>\n",
              "      <td>1</td>\n",
              "      <td>FLYNN: Hillary Clinton, Big Woman on Campus - ...</td>\n",
              "      <td>Daniel J. Flynn</td>\n",
              "      <td>Ever get the feeling your life circles the rou...</td>\n",
              "      <td>0</td>\n",
              "    </tr>\n",
              "    <tr>\n",
              "      <th>2</th>\n",
              "      <td>2</td>\n",
              "      <td>Why the Truth Might Get You Fired</td>\n",
              "      <td>Consortiumnews.com</td>\n",
              "      <td>Why the Truth Might Get You Fired October 29, ...</td>\n",
              "      <td>1</td>\n",
              "    </tr>\n",
              "    <tr>\n",
              "      <th>3</th>\n",
              "      <td>3</td>\n",
              "      <td>15 Civilians Killed In Single US Airstrike Hav...</td>\n",
              "      <td>Jessica Purkiss</td>\n",
              "      <td>Videos 15 Civilians Killed In Single US Airstr...</td>\n",
              "      <td>1</td>\n",
              "    </tr>\n",
              "    <tr>\n",
              "      <th>4</th>\n",
              "      <td>4</td>\n",
              "      <td>Iranian woman jailed for fictional unpublished...</td>\n",
              "      <td>Howard Portnoy</td>\n",
              "      <td>Print \\nAn Iranian woman has been sentenced to...</td>\n",
              "      <td>1</td>\n",
              "    </tr>\n",
              "  </tbody>\n",
              "</table>\n",
              "</div>\n",
              "      <button class=\"colab-df-convert\" onclick=\"convertToInteractive('df-693b8a33-9ddf-4846-921b-6999d0ea08dd')\"\n",
              "              title=\"Convert this dataframe to an interactive table.\"\n",
              "              style=\"display:none;\">\n",
              "        \n",
              "  <svg xmlns=\"http://www.w3.org/2000/svg\" height=\"24px\"viewBox=\"0 0 24 24\"\n",
              "       width=\"24px\">\n",
              "    <path d=\"M0 0h24v24H0V0z\" fill=\"none\"/>\n",
              "    <path d=\"M18.56 5.44l.94 2.06.94-2.06 2.06-.94-2.06-.94-.94-2.06-.94 2.06-2.06.94zm-11 1L8.5 8.5l.94-2.06 2.06-.94-2.06-.94L8.5 2.5l-.94 2.06-2.06.94zm10 10l.94 2.06.94-2.06 2.06-.94-2.06-.94-.94-2.06-.94 2.06-2.06.94z\"/><path d=\"M17.41 7.96l-1.37-1.37c-.4-.4-.92-.59-1.43-.59-.52 0-1.04.2-1.43.59L10.3 9.45l-7.72 7.72c-.78.78-.78 2.05 0 2.83L4 21.41c.39.39.9.59 1.41.59.51 0 1.02-.2 1.41-.59l7.78-7.78 2.81-2.81c.8-.78.8-2.07 0-2.86zM5.41 20L4 18.59l7.72-7.72 1.47 1.35L5.41 20z\"/>\n",
              "  </svg>\n",
              "      </button>\n",
              "      \n",
              "  <style>\n",
              "    .colab-df-container {\n",
              "      display:flex;\n",
              "      flex-wrap:wrap;\n",
              "      gap: 12px;\n",
              "    }\n",
              "\n",
              "    .colab-df-convert {\n",
              "      background-color: #E8F0FE;\n",
              "      border: none;\n",
              "      border-radius: 50%;\n",
              "      cursor: pointer;\n",
              "      display: none;\n",
              "      fill: #1967D2;\n",
              "      height: 32px;\n",
              "      padding: 0 0 0 0;\n",
              "      width: 32px;\n",
              "    }\n",
              "\n",
              "    .colab-df-convert:hover {\n",
              "      background-color: #E2EBFA;\n",
              "      box-shadow: 0px 1px 2px rgba(60, 64, 67, 0.3), 0px 1px 3px 1px rgba(60, 64, 67, 0.15);\n",
              "      fill: #174EA6;\n",
              "    }\n",
              "\n",
              "    [theme=dark] .colab-df-convert {\n",
              "      background-color: #3B4455;\n",
              "      fill: #D2E3FC;\n",
              "    }\n",
              "\n",
              "    [theme=dark] .colab-df-convert:hover {\n",
              "      background-color: #434B5C;\n",
              "      box-shadow: 0px 1px 3px 1px rgba(0, 0, 0, 0.15);\n",
              "      filter: drop-shadow(0px 1px 2px rgba(0, 0, 0, 0.3));\n",
              "      fill: #FFFFFF;\n",
              "    }\n",
              "  </style>\n",
              "\n",
              "      <script>\n",
              "        const buttonEl =\n",
              "          document.querySelector('#df-693b8a33-9ddf-4846-921b-6999d0ea08dd button.colab-df-convert');\n",
              "        buttonEl.style.display =\n",
              "          google.colab.kernel.accessAllowed ? 'block' : 'none';\n",
              "\n",
              "        async function convertToInteractive(key) {\n",
              "          const element = document.querySelector('#df-693b8a33-9ddf-4846-921b-6999d0ea08dd');\n",
              "          const dataTable =\n",
              "            await google.colab.kernel.invokeFunction('convertToInteractive',\n",
              "                                                     [key], {});\n",
              "          if (!dataTable) return;\n",
              "\n",
              "          const docLinkHtml = 'Like what you see? Visit the ' +\n",
              "            '<a target=\"_blank\" href=https://colab.research.google.com/notebooks/data_table.ipynb>data table notebook</a>'\n",
              "            + ' to learn more about interactive tables.';\n",
              "          element.innerHTML = '';\n",
              "          dataTable['output_type'] = 'display_data';\n",
              "          await google.colab.output.renderOutput(dataTable, element);\n",
              "          const docLink = document.createElement('div');\n",
              "          docLink.innerHTML = docLinkHtml;\n",
              "          element.appendChild(docLink);\n",
              "        }\n",
              "      </script>\n",
              "    </div>\n",
              "  </div>\n",
              "  "
            ]
          },
          "metadata": {},
          "execution_count": 4
        }
      ]
    },
    {
      "cell_type": "markdown",
      "source": [
        "Drop the rows with NaN values"
      ],
      "metadata": {
        "id": "lSwEGRM_vwm1"
      }
    },
    {
      "cell_type": "code",
      "source": [
        "data = data.dropna()"
      ],
      "metadata": {
        "id": "1TqQ0PfxvXLP"
      },
      "execution_count": 5,
      "outputs": []
    },
    {
      "cell_type": "markdown",
      "source": [
        "Getting the independent and dependent variables"
      ],
      "metadata": {
        "id": "jRcOEmi8weTe"
      }
    },
    {
      "cell_type": "code",
      "source": [
        "X = data.drop('label', axis=1)\n",
        "y = data['label']"
      ],
      "metadata": {
        "id": "_Xe-cVgvvXN1"
      },
      "execution_count": 6,
      "outputs": []
    },
    {
      "cell_type": "markdown",
      "source": [
        "Checking the X data and y data shape"
      ],
      "metadata": {
        "id": "7_2lLrTDwvf8"
      }
    },
    {
      "cell_type": "code",
      "source": [
        "X.shape"
      ],
      "metadata": {
        "colab": {
          "base_uri": "https://localhost:8080/"
        },
        "id": "G9Wlzvvrwt5n",
        "outputId": "2deded91-5ca8-4bd7-f08c-e547ba8057b6"
      },
      "execution_count": 7,
      "outputs": [
        {
          "output_type": "execute_result",
          "data": {
            "text/plain": [
              "(18285, 4)"
            ]
          },
          "metadata": {},
          "execution_count": 7
        }
      ]
    },
    {
      "cell_type": "code",
      "source": [
        "y.shape"
      ],
      "metadata": {
        "colab": {
          "base_uri": "https://localhost:8080/"
        },
        "id": "g0h-ljP4wz8D",
        "outputId": "8fb3e05d-9888-4b50-e20e-ce5588bfeaef"
      },
      "execution_count": 8,
      "outputs": [
        {
          "output_type": "execute_result",
          "data": {
            "text/plain": [
              "(18285,)"
            ]
          },
          "metadata": {},
          "execution_count": 8
        }
      ]
    },
    {
      "cell_type": "markdown",
      "source": [
        "Importing tensorflow "
      ],
      "metadata": {
        "id": "xKpRyXrOw9tz"
      }
    },
    {
      "cell_type": "code",
      "source": [
        "import tensorflow as tf "
      ],
      "metadata": {
        "id": "g5FE3jaoxCA0"
      },
      "execution_count": 9,
      "outputs": []
    },
    {
      "cell_type": "markdown",
      "source": [
        "Checking the tensorflow version"
      ],
      "metadata": {
        "id": "UHkSbjwExGIF"
      }
    },
    {
      "cell_type": "code",
      "source": [
        "print(tf.__version__)"
      ],
      "metadata": {
        "colab": {
          "base_uri": "https://localhost:8080/"
        },
        "id": "qSWCv7OoxCDZ",
        "outputId": "2e526b8b-0ecf-482c-b47d-0a045fc8e89f"
      },
      "execution_count": 10,
      "outputs": [
        {
          "output_type": "stream",
          "name": "stdout",
          "text": [
            "2.8.2\n"
          ]
        }
      ]
    },
    {
      "cell_type": "markdown",
      "source": [
        "Importing LSTM libraries"
      ],
      "metadata": {
        "id": "C4PeYs5-xPju"
      }
    },
    {
      "cell_type": "code",
      "source": [
        "from tensorflow.keras.layers import Embedding\n",
        "from tensorflow.keras.preprocessing.sequence import pad_sequences\n",
        "from tensorflow.keras.models import Sequential\n",
        "from tensorflow.keras.preprocessing.text import one_hot\n",
        "from tensorflow.keras.layers import LSTM\n",
        "from tensorflow.keras.layers import Dense \n",
        "from tensorflow.keras.layers import Bidirectional\n",
        "from tensorflow.keras.layers import Dropout"
      ],
      "metadata": {
        "id": "G13nxyfdxa1U"
      },
      "execution_count": 11,
      "outputs": []
    },
    {
      "cell_type": "markdown",
      "source": [
        "Defining the max vocabulary size"
      ],
      "metadata": {
        "id": "UY2DaLlrYPIG"
      }
    },
    {
      "cell_type": "code",
      "source": [
        "vocabsize = 5000"
      ],
      "metadata": {
        "id": "y8ipAOkXy2SC"
      },
      "execution_count": 12,
      "outputs": []
    },
    {
      "cell_type": "markdown",
      "source": [
        "One hot representation "
      ],
      "metadata": {
        "id": "xdSNk3ekYVeG"
      }
    },
    {
      "cell_type": "code",
      "source": [
        "messages = X.copy()"
      ],
      "metadata": {
        "id": "JFwac2rwYZU6"
      },
      "execution_count": 13,
      "outputs": []
    },
    {
      "cell_type": "code",
      "source": [
        "messages['title'][1]"
      ],
      "metadata": {
        "colab": {
          "base_uri": "https://localhost:8080/",
          "height": 35
        },
        "id": "iQxYnnh6y2U4",
        "outputId": "f183c9b9-bb83-4eb9-bb97-3fc320aac6f6"
      },
      "execution_count": 14,
      "outputs": [
        {
          "output_type": "execute_result",
          "data": {
            "text/plain": [
              "'FLYNN: Hillary Clinton, Big Woman on Campus - Breitbart'"
            ],
            "application/vnd.google.colaboratory.intrinsic+json": {
              "type": "string"
            }
          },
          "metadata": {},
          "execution_count": 14
        }
      ]
    },
    {
      "cell_type": "markdown",
      "source": [
        "Resetting indexes"
      ],
      "metadata": {
        "id": "nuwxLeouY1U5"
      }
    },
    {
      "cell_type": "code",
      "source": [
        "messages.reset_index(inplace=True)"
      ],
      "metadata": {
        "id": "cBuYOce4y2dt"
      },
      "execution_count": 15,
      "outputs": []
    },
    {
      "cell_type": "markdown",
      "source": [
        "Importing the nltk libraries"
      ],
      "metadata": {
        "id": "WxwLVRvsZDQS"
      }
    },
    {
      "cell_type": "code",
      "source": [
        "import nltk \n",
        "import re \n",
        "from nltk.corpus import stopwords"
      ],
      "metadata": {
        "id": "g9Ygmdg8ZBiK"
      },
      "execution_count": 16,
      "outputs": []
    },
    {
      "cell_type": "code",
      "source": [
        "nltk.download('stopwords')"
      ],
      "metadata": {
        "colab": {
          "base_uri": "https://localhost:8080/"
        },
        "id": "H5faBgJWZWp8",
        "outputId": "c7f8c0a2-0b31-47bf-8453-6f9401d263cb"
      },
      "execution_count": 17,
      "outputs": [
        {
          "output_type": "stream",
          "name": "stdout",
          "text": [
            "[nltk_data] Downloading package stopwords to /root/nltk_data...\n",
            "[nltk_data]   Unzipping corpora/stopwords.zip.\n"
          ]
        },
        {
          "output_type": "execute_result",
          "data": {
            "text/plain": [
              "True"
            ]
          },
          "metadata": {},
          "execution_count": 17
        }
      ]
    },
    {
      "cell_type": "markdown",
      "source": [
        "Data Preprocessing"
      ],
      "metadata": {
        "id": "nlttDmkNZgn9"
      }
    },
    {
      "cell_type": "code",
      "source": [
        "from nltk.stem.porter import PorterStemmer\n",
        "ps = PorterStemmer()\n",
        "corpus = []\n",
        "for i in range(0, len(messages)):\n",
        "    review = re.sub('[^a-zA-Z]', ' ', messages['title'][i])\n",
        "    review = review.lower()\n",
        "    review = review.split()\n",
        "    \n",
        "    review = [ps.stem(word) for word in review if not word in stopwords.words('english')]\n",
        "    review = ' '.join(review)\n",
        "    corpus.append(review)"
      ],
      "metadata": {
        "id": "GlaQ4UZgZWsh"
      },
      "execution_count": 18,
      "outputs": []
    },
    {
      "cell_type": "markdown",
      "source": [
        "Checking the corpus"
      ],
      "metadata": {
        "id": "aIS2yyxebtXc"
      }
    },
    {
      "cell_type": "code",
      "source": [
        "corpus[:10]"
      ],
      "metadata": {
        "colab": {
          "base_uri": "https://localhost:8080/"
        },
        "id": "1_0x9xb5ZXHo",
        "outputId": "5a1f519a-c8dc-41d6-935b-dcb5baa43411"
      },
      "execution_count": 19,
      "outputs": [
        {
          "output_type": "execute_result",
          "data": {
            "text/plain": [
              "['hous dem aid even see comey letter jason chaffetz tweet',\n",
              " 'flynn hillari clinton big woman campu breitbart',\n",
              " 'truth might get fire',\n",
              " 'civilian kill singl us airstrik identifi',\n",
              " 'iranian woman jail fiction unpublish stori woman stone death adulteri',\n",
              " 'jacki mason hollywood would love trump bomb north korea lack tran bathroom exclus video breitbart',\n",
              " 'beno hamon win french socialist parti presidenti nomin new york time',\n",
              " 'back channel plan ukrain russia courtesi trump associ new york time',\n",
              " 'obama organ action partner soro link indivis disrupt trump agenda',\n",
              " 'bbc comedi sketch real housew isi caus outrag']"
            ]
          },
          "metadata": {},
          "execution_count": 19
        }
      ]
    },
    {
      "cell_type": "markdown",
      "source": [
        "One Hot Represenation for the corpus "
      ],
      "metadata": {
        "id": "a7cuaM5GpdwA"
      }
    },
    {
      "cell_type": "code",
      "source": [
        "onehot = [one_hot(words, vocabsize) for words in corpus]\n",
        "onehot[:5]"
      ],
      "metadata": {
        "colab": {
          "base_uri": "https://localhost:8080/"
        },
        "id": "H9cO79AXZXJ8",
        "outputId": "787df02e-2150-4faa-a9f7-538cf0eac650"
      },
      "execution_count": 20,
      "outputs": [
        {
          "output_type": "execute_result",
          "data": {
            "text/plain": [
              "[[1547, 1040, 3573, 2432, 4171, 3534, 881, 642, 1772, 2077],\n",
              " [76, 2791, 3245, 3181, 3457, 1976, 4410],\n",
              " [1146, 4736, 1531, 3144],\n",
              " [2112, 2667, 3415, 16, 2497, 2436],\n",
              " [3346, 3457, 2763, 3610, 1280, 1558, 3457, 3747, 2832, 1921]]"
            ]
          },
          "metadata": {},
          "execution_count": 20
        }
      ]
    },
    {
      "cell_type": "markdown",
      "source": [
        "Embedding Representation"
      ],
      "metadata": {
        "id": "-Q7JeTVZpj-b"
      }
    },
    {
      "cell_type": "code",
      "source": [
        "sentencelength = 20 \n",
        "embeddeddocs = pad_sequences(onehot, padding='pre', maxlen=sentencelength)\n",
        "print(embeddeddocs)"
      ],
      "metadata": {
        "colab": {
          "base_uri": "https://localhost:8080/"
        },
        "id": "5pif4peLOaio",
        "outputId": "e703117b-3a8d-4e63-ef00-9055d4d9fb01"
      },
      "execution_count": 21,
      "outputs": [
        {
          "output_type": "stream",
          "name": "stdout",
          "text": [
            "[[   0    0    0 ...  642 1772 2077]\n",
            " [   0    0    0 ... 3457 1976 4410]\n",
            " [   0    0    0 ... 4736 1531 3144]\n",
            " ...\n",
            " [   0    0    0 ...   96 2224 2471]\n",
            " [   0    0    0 ... 2967 1233 1372]\n",
            " [   0    0    0 ... 1011  686 1488]]\n"
          ]
        }
      ]
    },
    {
      "cell_type": "code",
      "source": [
        "embeddeddocs[0]"
      ],
      "metadata": {
        "colab": {
          "base_uri": "https://localhost:8080/"
        },
        "id": "CggQxyZx26eT",
        "outputId": "33c9223d-dac9-4db4-ee3b-fbd2a5ec8547"
      },
      "execution_count": 22,
      "outputs": [
        {
          "output_type": "execute_result",
          "data": {
            "text/plain": [
              "array([   0,    0,    0,    0,    0,    0,    0,    0,    0,    0, 1547,\n",
              "       1040, 3573, 2432, 4171, 3534,  881,  642, 1772, 2077], dtype=int32)"
            ]
          },
          "metadata": {},
          "execution_count": 22
        }
      ]
    },
    {
      "cell_type": "markdown",
      "source": [
        "Creating the model"
      ],
      "metadata": {
        "id": "kRIO1rvn3GGB"
      }
    },
    {
      "cell_type": "code",
      "source": [
        "from nltk import metrics\n",
        "embedded_vecor_features = 40\n",
        "modell = Sequential()\n",
        "modell.add(Embedding(vocabsize, embedded_vecor_features, input_length=sentencelength))\n",
        "modell.add(LSTM(100))\n",
        "modell.add(Dense(1, activation='sigmoid'))\n",
        "modell.compile(loss='binary_crossentropy', optimizer='adam', metrics='accuracy')\n",
        "print(modell.summary())"
      ],
      "metadata": {
        "colab": {
          "base_uri": "https://localhost:8080/"
        },
        "id": "mWADfkzS26ib",
        "outputId": "bd7dd791-40e3-443b-ff0a-93582a951b85"
      },
      "execution_count": 32,
      "outputs": [
        {
          "output_type": "stream",
          "name": "stdout",
          "text": [
            "Model: \"sequential_1\"\n",
            "_________________________________________________________________\n",
            " Layer (type)                Output Shape              Param #   \n",
            "=================================================================\n",
            " embedding_1 (Embedding)     (None, 20, 40)            200000    \n",
            "                                                                 \n",
            " lstm_1 (LSTM)               (None, 100)               56400     \n",
            "                                                                 \n",
            " dense_1 (Dense)             (None, 1)                 101       \n",
            "                                                                 \n",
            "=================================================================\n",
            "Total params: 256,501\n",
            "Trainable params: 256,501\n",
            "Non-trainable params: 0\n",
            "_________________________________________________________________\n",
            "None\n"
          ]
        }
      ]
    },
    {
      "cell_type": "code",
      "source": [
        "len(embeddeddocs), y.shape"
      ],
      "metadata": {
        "colab": {
          "base_uri": "https://localhost:8080/"
        },
        "id": "8RJsFuCh26mC",
        "outputId": "2caf6349-b44d-46fe-a6f0-405b075a5a82"
      },
      "execution_count": 33,
      "outputs": [
        {
          "output_type": "execute_result",
          "data": {
            "text/plain": [
              "(18285, (18285,))"
            ]
          },
          "metadata": {},
          "execution_count": 33
        }
      ]
    },
    {
      "cell_type": "markdown",
      "source": [
        "Import libraries"
      ],
      "metadata": {
        "id": "PK6zSSvj4qgf"
      }
    },
    {
      "cell_type": "code",
      "source": [
        "import numpy as np\n",
        "Xfinal = np.array(embeddeddocs)\n",
        "yfinal = np.array(y)"
      ],
      "metadata": {
        "id": "UriMFrRf26n7"
      },
      "execution_count": 34,
      "outputs": []
    },
    {
      "cell_type": "markdown",
      "source": [
        "Checking the shape of Xfinal and yfinal"
      ],
      "metadata": {
        "id": "1ihIUyFT59sb"
      }
    },
    {
      "cell_type": "code",
      "source": [
        "print(Xfinal.shape)\n",
        "print(yfinal.shape)"
      ],
      "metadata": {
        "colab": {
          "base_uri": "https://localhost:8080/"
        },
        "id": "xrZdnuz7588Q",
        "outputId": "389658f4-bbbe-4fea-8e64-67a293dc198d"
      },
      "execution_count": 35,
      "outputs": [
        {
          "output_type": "stream",
          "name": "stdout",
          "text": [
            "(18285, 20)\n",
            "(18285,)\n"
          ]
        }
      ]
    },
    {
      "cell_type": "markdown",
      "source": [
        "Train test split"
      ],
      "metadata": {
        "id": "N3XG-_iQ508T"
      }
    },
    {
      "cell_type": "code",
      "source": [
        "from sklearn.model_selection import train_test_split\n",
        "X_train, X_test, y_train, y_test = train_test_split(Xfinal, yfinal, test_size=0.33, random_state=42)"
      ],
      "metadata": {
        "id": "DpBSoTV826tk"
      },
      "execution_count": 36,
      "outputs": []
    },
    {
      "cell_type": "markdown",
      "source": [
        "Training the model"
      ],
      "metadata": {
        "id": "KM9yRIMv6mEo"
      }
    },
    {
      "cell_type": "code",
      "source": [
        "modell.fit(X_train, y_train, validation_data=(X_test, y_test), epochs=10, batch_size=64)"
      ],
      "metadata": {
        "colab": {
          "base_uri": "https://localhost:8080/"
        },
        "id": "nAenFdwa4kyf",
        "outputId": "3701cf1f-8e68-41af-cc84-f9dbe7a50639"
      },
      "execution_count": 37,
      "outputs": [
        {
          "output_type": "stream",
          "name": "stdout",
          "text": [
            "Epoch 1/10\n",
            "192/192 [==============================] - 11s 42ms/step - loss: 0.3231 - accuracy: 0.8537 - val_loss: 0.1947 - val_accuracy: 0.9163\n",
            "Epoch 2/10\n",
            "192/192 [==============================] - 8s 40ms/step - loss: 0.1370 - accuracy: 0.9474 - val_loss: 0.1985 - val_accuracy: 0.9190\n",
            "Epoch 3/10\n",
            "192/192 [==============================] - 7s 38ms/step - loss: 0.0958 - accuracy: 0.9651 - val_loss: 0.2411 - val_accuracy: 0.9186\n",
            "Epoch 4/10\n",
            "192/192 [==============================] - 9s 46ms/step - loss: 0.0674 - accuracy: 0.9764 - val_loss: 0.2365 - val_accuracy: 0.9135\n",
            "Epoch 5/10\n",
            "192/192 [==============================] - 8s 41ms/step - loss: 0.0449 - accuracy: 0.9851 - val_loss: 0.3392 - val_accuracy: 0.9062\n",
            "Epoch 6/10\n",
            "192/192 [==============================] - 7s 38ms/step - loss: 0.0296 - accuracy: 0.9905 - val_loss: 0.3405 - val_accuracy: 0.9104\n",
            "Epoch 7/10\n",
            "192/192 [==============================] - 7s 38ms/step - loss: 0.0168 - accuracy: 0.9953 - val_loss: 0.4703 - val_accuracy: 0.9049\n",
            "Epoch 8/10\n",
            "192/192 [==============================] - 7s 39ms/step - loss: 0.0096 - accuracy: 0.9974 - val_loss: 0.5474 - val_accuracy: 0.9110\n",
            "Epoch 9/10\n",
            "192/192 [==============================] - 7s 39ms/step - loss: 0.0051 - accuracy: 0.9985 - val_loss: 0.5629 - val_accuracy: 0.9112\n",
            "Epoch 10/10\n",
            "192/192 [==============================] - 8s 40ms/step - loss: 0.0079 - accuracy: 0.9976 - val_loss: 0.5178 - val_accuracy: 0.9062\n"
          ]
        },
        {
          "output_type": "execute_result",
          "data": {
            "text/plain": [
              "<keras.callbacks.History at 0x7f3c8148b810>"
            ]
          },
          "metadata": {},
          "execution_count": 37
        }
      ]
    },
    {
      "cell_type": "markdown",
      "source": [
        "Performance Metrics Accuracy"
      ],
      "metadata": {
        "id": "vA0QkTQC667f"
      }
    },
    {
      "cell_type": "code",
      "source": [
        "y_pred = (modell.predict(X_test) > 0.5).astype(\"int32\")"
      ],
      "metadata": {
        "id": "qq6Ul3ZS4k2I"
      },
      "execution_count": 44,
      "outputs": []
    },
    {
      "cell_type": "markdown",
      "source": [
        "Confusion Matrix"
      ],
      "metadata": {
        "id": "-wJ-T9447YO6"
      }
    },
    {
      "cell_type": "code",
      "source": [
        "from sklearn.metrics import confusion_matrix\n",
        "confusion_matrix(y_test,y_pred)"
      ],
      "metadata": {
        "colab": {
          "base_uri": "https://localhost:8080/"
        },
        "id": "qOwe41157d0s",
        "outputId": "9a501b66-ee79-408c-f8d5-47e46899976e"
      },
      "execution_count": 45,
      "outputs": [
        {
          "output_type": "execute_result",
          "data": {
            "text/plain": [
              "array([[3125,  294],\n",
              "       [ 272, 2344]])"
            ]
          },
          "metadata": {},
          "execution_count": 45
        }
      ]
    },
    {
      "cell_type": "markdown",
      "source": [
        "Accuracy Score"
      ],
      "metadata": {
        "id": "vEKAwVcD76T3"
      }
    },
    {
      "cell_type": "code",
      "source": [
        "from sklearn.metrics import accuracy_score\n",
        "accuracy_score(y_test, y_pred)"
      ],
      "metadata": {
        "colab": {
          "base_uri": "https://localhost:8080/"
        },
        "id": "-owWr9IK7qoj",
        "outputId": "e7fe089e-0007-43dd-8846-00c5f865c57f"
      },
      "execution_count": 46,
      "outputs": [
        {
          "output_type": "execute_result",
          "data": {
            "text/plain": [
              "0.9062137531068766"
            ]
          },
          "metadata": {},
          "execution_count": 46
        }
      ]
    },
    {
      "cell_type": "markdown",
      "source": [
        "Classification Report "
      ],
      "metadata": {
        "id": "3ussxoFN798-"
      }
    },
    {
      "cell_type": "code",
      "source": [
        "from sklearn.metrics import classification_report\n",
        "print(classification_report(y_test, y_pred))"
      ],
      "metadata": {
        "colab": {
          "base_uri": "https://localhost:8080/"
        },
        "id": "aMI258cw73SY",
        "outputId": "cf615256-9a8d-4fc7-b89d-7432a7add88c"
      },
      "execution_count": 47,
      "outputs": [
        {
          "output_type": "stream",
          "name": "stdout",
          "text": [
            "              precision    recall  f1-score   support\n",
            "\n",
            "           0       0.92      0.91      0.92      3419\n",
            "           1       0.89      0.90      0.89      2616\n",
            "\n",
            "    accuracy                           0.91      6035\n",
            "   macro avg       0.90      0.91      0.90      6035\n",
            "weighted avg       0.91      0.91      0.91      6035\n",
            "\n"
          ]
        }
      ]
    }
  ]
}